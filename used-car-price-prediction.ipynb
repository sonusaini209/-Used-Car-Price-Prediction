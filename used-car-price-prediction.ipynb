{
 "cells": [
  {
   "cell_type": "code",
   "execution_count": 1,
   "id": "46385183",
   "metadata": {
    "_cell_guid": "b1076dfc-b9ad-4769-8c92-a6c4dae69d19",
    "_uuid": "8f2839f25d086af736a60e9eeb907d3b93b6e0e5",
    "execution": {
     "iopub.execute_input": "2023-10-22T19:52:39.057898Z",
     "iopub.status.busy": "2023-10-22T19:52:39.057367Z",
     "iopub.status.idle": "2023-10-22T19:52:39.503718Z",
     "shell.execute_reply": "2023-10-22T19:52:39.502576Z"
    },
    "papermill": {
     "duration": 0.462324,
     "end_time": "2023-10-22T19:52:39.506266",
     "exception": false,
     "start_time": "2023-10-22T19:52:39.043942",
     "status": "completed"
    },
    "tags": []
   },
   "outputs": [
    {
     "name": "stdout",
     "output_type": "stream",
     "text": [
      "/kaggle/input/used-cars-prices-in-uk/used_cars_UK.csv\n"
     ]
    }
   ],
   "source": [
    "# This Python 3 environment comes with many helpful analytics libraries installed\n",
    "# It is defined by the kaggle/python Docker image: https://github.com/kaggle/docker-python\n",
    "# For example, here's several helpful packages to load\n",
    "\n",
    "import numpy as np # linear algebra\n",
    "import pandas as pd # data processing, CSV file I/O (e.g. pd.read_csv)\n",
    "\n",
    "# Input data files are available in the read-only \"../input/\" directory\n",
    "# For example, running this (by clicking run or pressing Shift+Enter) will list all files under the input directory\n",
    "\n",
    "import os\n",
    "for dirname, _, filenames in os.walk('/kaggle/input'):\n",
    "    for filename in filenames:\n",
    "        print(os.path.join(dirname, filename))\n",
    "\n",
    "# You can write up to 20GB to the current directory (/kaggle/working/) that gets preserved as output when you create a version using \"Save & Run All\" \n",
    "# You can also write temporary files to /kaggle/temp/, but they won't be saved outside of the current session"
   ]
  },
  {
   "cell_type": "markdown",
   "id": "25e1ffac",
   "metadata": {
    "papermill": {
     "duration": 0.010469,
     "end_time": "2023-10-22T19:52:39.527906",
     "exception": false,
     "start_time": "2023-10-22T19:52:39.517437",
     "status": "completed"
    },
    "tags": []
   },
   "source": [
    "# 1. Import necessary libraries"
   ]
  },
  {
   "cell_type": "code",
   "execution_count": 2,
   "id": "d94debd0",
   "metadata": {
    "execution": {
     "iopub.execute_input": "2023-10-22T19:52:39.551765Z",
     "iopub.status.busy": "2023-10-22T19:52:39.551213Z",
     "iopub.status.idle": "2023-10-22T19:52:41.341540Z",
     "shell.execute_reply": "2023-10-22T19:52:41.340249Z"
    },
    "papermill": {
     "duration": 1.805546,
     "end_time": "2023-10-22T19:52:41.344406",
     "exception": false,
     "start_time": "2023-10-22T19:52:39.538860",
     "status": "completed"
    },
    "tags": []
   },
   "outputs": [],
   "source": [
    "import numpy as np \n",
    "import pandas as pd\n",
    "from matplotlib import pyplot as plt\n",
    "import seaborn as sns"
   ]
  },
  {
   "cell_type": "markdown",
   "id": "18ef3b6e",
   "metadata": {
    "papermill": {
     "duration": 0.010813,
     "end_time": "2023-10-22T19:52:41.366334",
     "exception": false,
     "start_time": "2023-10-22T19:52:41.355521",
     "status": "completed"
    },
    "tags": []
   },
   "source": [
    "# 2. Load the dataset"
   ]
  },
  {
   "cell_type": "code",
   "execution_count": 3,
   "id": "abe714f8",
   "metadata": {
    "execution": {
     "iopub.execute_input": "2023-10-22T19:52:41.390541Z",
     "iopub.status.busy": "2023-10-22T19:52:41.390102Z",
     "iopub.status.idle": "2023-10-22T19:52:41.426746Z",
     "shell.execute_reply": "2023-10-22T19:52:41.425415Z"
    },
    "papermill": {
     "duration": 0.052134,
     "end_time": "2023-10-22T19:52:41.429524",
     "exception": false,
     "start_time": "2023-10-22T19:52:41.377390",
     "status": "completed"
    },
    "tags": []
   },
   "outputs": [],
   "source": [
    "df=pd.read_csv(\"/kaggle/input/used-cars-prices-in-uk/used_cars_UK.csv\")"
   ]
  },
  {
   "cell_type": "markdown",
   "id": "a1c6149a",
   "metadata": {
    "papermill": {
     "duration": 0.010509,
     "end_time": "2023-10-22T19:52:41.451312",
     "exception": false,
     "start_time": "2023-10-22T19:52:41.440803",
     "status": "completed"
    },
    "tags": []
   },
   "source": [
    "# 3.  Basic Data Exploration"
   ]
  },
  {
   "cell_type": "code",
   "execution_count": 4,
   "id": "dfd26983",
   "metadata": {
    "execution": {
     "iopub.execute_input": "2023-10-22T19:52:41.475838Z",
     "iopub.status.busy": "2023-10-22T19:52:41.475074Z",
     "iopub.status.idle": "2023-10-22T19:52:41.509097Z",
     "shell.execute_reply": "2023-10-22T19:52:41.507917Z"
    },
    "papermill": {
     "duration": 0.049124,
     "end_time": "2023-10-22T19:52:41.511686",
     "exception": false,
     "start_time": "2023-10-22T19:52:41.462562",
     "status": "completed"
    },
    "tags": []
   },
   "outputs": [
    {
     "data": {
      "text/html": [
       "<div>\n",
       "<style scoped>\n",
       "    .dataframe tbody tr th:only-of-type {\n",
       "        vertical-align: middle;\n",
       "    }\n",
       "\n",
       "    .dataframe tbody tr th {\n",
       "        vertical-align: top;\n",
       "    }\n",
       "\n",
       "    .dataframe thead th {\n",
       "        text-align: right;\n",
       "    }\n",
       "</style>\n",
       "<table border=\"1\" class=\"dataframe\">\n",
       "  <thead>\n",
       "    <tr style=\"text-align: right;\">\n",
       "      <th></th>\n",
       "      <th>Unnamed: 0</th>\n",
       "      <th>title</th>\n",
       "      <th>Price</th>\n",
       "      <th>Mileage(miles)</th>\n",
       "      <th>Registration_Year</th>\n",
       "      <th>Previous Owners</th>\n",
       "      <th>Fuel type</th>\n",
       "      <th>Body type</th>\n",
       "      <th>Engine</th>\n",
       "      <th>Gearbox</th>\n",
       "      <th>Doors</th>\n",
       "      <th>Seats</th>\n",
       "      <th>Emission Class</th>\n",
       "      <th>Service history</th>\n",
       "    </tr>\n",
       "  </thead>\n",
       "  <tbody>\n",
       "    <tr>\n",
       "      <th>0</th>\n",
       "      <td>0</td>\n",
       "      <td>SKODA Fabia</td>\n",
       "      <td>6900</td>\n",
       "      <td>70189</td>\n",
       "      <td>2016</td>\n",
       "      <td>3.0</td>\n",
       "      <td>Diesel</td>\n",
       "      <td>Hatchback</td>\n",
       "      <td>1.4L</td>\n",
       "      <td>Manual</td>\n",
       "      <td>5.0</td>\n",
       "      <td>5.0</td>\n",
       "      <td>Euro 6</td>\n",
       "      <td>NaN</td>\n",
       "    </tr>\n",
       "    <tr>\n",
       "      <th>1</th>\n",
       "      <td>1</td>\n",
       "      <td>Vauxhall Corsa</td>\n",
       "      <td>1495</td>\n",
       "      <td>88585</td>\n",
       "      <td>2008</td>\n",
       "      <td>4.0</td>\n",
       "      <td>Petrol</td>\n",
       "      <td>Hatchback</td>\n",
       "      <td>1.2L</td>\n",
       "      <td>Manual</td>\n",
       "      <td>3.0</td>\n",
       "      <td>5.0</td>\n",
       "      <td>Euro 4</td>\n",
       "      <td>Full</td>\n",
       "    </tr>\n",
       "    <tr>\n",
       "      <th>2</th>\n",
       "      <td>2</td>\n",
       "      <td>Hyundai i30</td>\n",
       "      <td>949</td>\n",
       "      <td>137000</td>\n",
       "      <td>2011</td>\n",
       "      <td>NaN</td>\n",
       "      <td>Petrol</td>\n",
       "      <td>Hatchback</td>\n",
       "      <td>1.4L</td>\n",
       "      <td>Manual</td>\n",
       "      <td>5.0</td>\n",
       "      <td>5.0</td>\n",
       "      <td>Euro 5</td>\n",
       "      <td>NaN</td>\n",
       "    </tr>\n",
       "    <tr>\n",
       "      <th>3</th>\n",
       "      <td>3</td>\n",
       "      <td>MINI Hatch</td>\n",
       "      <td>2395</td>\n",
       "      <td>96731</td>\n",
       "      <td>2010</td>\n",
       "      <td>5.0</td>\n",
       "      <td>Petrol</td>\n",
       "      <td>Hatchback</td>\n",
       "      <td>1.4L</td>\n",
       "      <td>Manual</td>\n",
       "      <td>3.0</td>\n",
       "      <td>4.0</td>\n",
       "      <td>Euro 4</td>\n",
       "      <td>Full</td>\n",
       "    </tr>\n",
       "    <tr>\n",
       "      <th>4</th>\n",
       "      <td>4</td>\n",
       "      <td>Vauxhall Corsa</td>\n",
       "      <td>1000</td>\n",
       "      <td>85000</td>\n",
       "      <td>2013</td>\n",
       "      <td>NaN</td>\n",
       "      <td>Diesel</td>\n",
       "      <td>Hatchback</td>\n",
       "      <td>1.3L</td>\n",
       "      <td>Manual</td>\n",
       "      <td>5.0</td>\n",
       "      <td>5.0</td>\n",
       "      <td>Euro 5</td>\n",
       "      <td>NaN</td>\n",
       "    </tr>\n",
       "  </tbody>\n",
       "</table>\n",
       "</div>"
      ],
      "text/plain": [
       "   Unnamed: 0           title  Price  Mileage(miles)  Registration_Year  \\\n",
       "0           0     SKODA Fabia   6900           70189               2016   \n",
       "1           1  Vauxhall Corsa   1495           88585               2008   \n",
       "2           2     Hyundai i30    949          137000               2011   \n",
       "3           3      MINI Hatch   2395           96731               2010   \n",
       "4           4  Vauxhall Corsa   1000           85000               2013   \n",
       "\n",
       "   Previous Owners Fuel type  Body type Engine Gearbox  Doors  Seats  \\\n",
       "0              3.0    Diesel  Hatchback   1.4L  Manual    5.0    5.0   \n",
       "1              4.0    Petrol  Hatchback   1.2L  Manual    3.0    5.0   \n",
       "2              NaN    Petrol  Hatchback   1.4L  Manual    5.0    5.0   \n",
       "3              5.0    Petrol  Hatchback   1.4L  Manual    3.0    4.0   \n",
       "4              NaN    Diesel  Hatchback   1.3L  Manual    5.0    5.0   \n",
       "\n",
       "  Emission Class Service history  \n",
       "0         Euro 6             NaN  \n",
       "1         Euro 4            Full  \n",
       "2         Euro 5             NaN  \n",
       "3         Euro 4            Full  \n",
       "4         Euro 5             NaN  "
      ]
     },
     "execution_count": 4,
     "metadata": {},
     "output_type": "execute_result"
    }
   ],
   "source": [
    "df.head()"
   ]
  },
  {
   "cell_type": "code",
   "execution_count": 5,
   "id": "f54d4557",
   "metadata": {
    "execution": {
     "iopub.execute_input": "2023-10-22T19:52:41.536630Z",
     "iopub.status.busy": "2023-10-22T19:52:41.536047Z",
     "iopub.status.idle": "2023-10-22T19:52:41.543351Z",
     "shell.execute_reply": "2023-10-22T19:52:41.542233Z"
    },
    "papermill": {
     "duration": 0.022464,
     "end_time": "2023-10-22T19:52:41.545553",
     "exception": false,
     "start_time": "2023-10-22T19:52:41.523089",
     "status": "completed"
    },
    "tags": []
   },
   "outputs": [
    {
     "data": {
      "text/plain": [
       "(3685, 14)"
      ]
     },
     "execution_count": 5,
     "metadata": {},
     "output_type": "execute_result"
    }
   ],
   "source": [
    "df.shape  # Dataset Shape"
   ]
  },
  {
   "cell_type": "code",
   "execution_count": 6,
   "id": "35f6422f",
   "metadata": {
    "execution": {
     "iopub.execute_input": "2023-10-22T19:52:41.570467Z",
     "iopub.status.busy": "2023-10-22T19:52:41.570024Z",
     "iopub.status.idle": "2023-10-22T19:52:41.603970Z",
     "shell.execute_reply": "2023-10-22T19:52:41.602636Z"
    },
    "papermill": {
     "duration": 0.049593,
     "end_time": "2023-10-22T19:52:41.606630",
     "exception": false,
     "start_time": "2023-10-22T19:52:41.557037",
     "status": "completed"
    },
    "tags": []
   },
   "outputs": [
    {
     "name": "stdout",
     "output_type": "stream",
     "text": [
      "<class 'pandas.core.frame.DataFrame'>\n",
      "RangeIndex: 3685 entries, 0 to 3684\n",
      "Data columns (total 14 columns):\n",
      " #   Column             Non-Null Count  Dtype  \n",
      "---  ------             --------------  -----  \n",
      " 0   Unnamed: 0         3685 non-null   int64  \n",
      " 1   title              3685 non-null   object \n",
      " 2   Price              3685 non-null   int64  \n",
      " 3   Mileage(miles)     3685 non-null   int64  \n",
      " 4   Registration_Year  3685 non-null   int64  \n",
      " 5   Previous Owners    2276 non-null   float64\n",
      " 6   Fuel type          3685 non-null   object \n",
      " 7   Body type          3685 non-null   object \n",
      " 8   Engine             3640 non-null   object \n",
      " 9   Gearbox            3685 non-null   object \n",
      " 10  Doors              3660 non-null   float64\n",
      " 11  Seats              3650 non-null   float64\n",
      " 12  Emission Class     3598 non-null   object \n",
      " 13  Service history    540 non-null    object \n",
      "dtypes: float64(3), int64(4), object(7)\n",
      "memory usage: 403.2+ KB\n"
     ]
    }
   ],
   "source": [
    "df.info() # Dataset Information"
   ]
  },
  {
   "cell_type": "code",
   "execution_count": 7,
   "id": "89e90234",
   "metadata": {
    "execution": {
     "iopub.execute_input": "2023-10-22T19:52:41.633512Z",
     "iopub.status.busy": "2023-10-22T19:52:41.632446Z",
     "iopub.status.idle": "2023-10-22T19:52:41.669704Z",
     "shell.execute_reply": "2023-10-22T19:52:41.668507Z"
    },
    "papermill": {
     "duration": 0.053114,
     "end_time": "2023-10-22T19:52:41.672722",
     "exception": false,
     "start_time": "2023-10-22T19:52:41.619608",
     "status": "completed"
    },
    "tags": []
   },
   "outputs": [
    {
     "data": {
      "text/html": [
       "<div>\n",
       "<style scoped>\n",
       "    .dataframe tbody tr th:only-of-type {\n",
       "        vertical-align: middle;\n",
       "    }\n",
       "\n",
       "    .dataframe tbody tr th {\n",
       "        vertical-align: top;\n",
       "    }\n",
       "\n",
       "    .dataframe thead th {\n",
       "        text-align: right;\n",
       "    }\n",
       "</style>\n",
       "<table border=\"1\" class=\"dataframe\">\n",
       "  <thead>\n",
       "    <tr style=\"text-align: right;\">\n",
       "      <th></th>\n",
       "      <th>Unnamed: 0</th>\n",
       "      <th>Price</th>\n",
       "      <th>Mileage(miles)</th>\n",
       "      <th>Registration_Year</th>\n",
       "      <th>Previous Owners</th>\n",
       "      <th>Doors</th>\n",
       "      <th>Seats</th>\n",
       "    </tr>\n",
       "  </thead>\n",
       "  <tbody>\n",
       "    <tr>\n",
       "      <th>count</th>\n",
       "      <td>3685.000000</td>\n",
       "      <td>3685.000000</td>\n",
       "      <td>3.685000e+03</td>\n",
       "      <td>3685.000000</td>\n",
       "      <td>2276.000000</td>\n",
       "      <td>3660.000000</td>\n",
       "      <td>3650.000000</td>\n",
       "    </tr>\n",
       "    <tr>\n",
       "      <th>mean</th>\n",
       "      <td>2314.770963</td>\n",
       "      <td>5787.145726</td>\n",
       "      <td>8.132816e+04</td>\n",
       "      <td>2011.835007</td>\n",
       "      <td>2.807557</td>\n",
       "      <td>4.321038</td>\n",
       "      <td>4.900274</td>\n",
       "    </tr>\n",
       "    <tr>\n",
       "      <th>std</th>\n",
       "      <td>1415.821308</td>\n",
       "      <td>4480.810572</td>\n",
       "      <td>3.942083e+04</td>\n",
       "      <td>5.092566</td>\n",
       "      <td>1.546028</td>\n",
       "      <td>0.986902</td>\n",
       "      <td>0.577200</td>\n",
       "    </tr>\n",
       "    <tr>\n",
       "      <th>min</th>\n",
       "      <td>0.000000</td>\n",
       "      <td>400.000000</td>\n",
       "      <td>1.000000e+00</td>\n",
       "      <td>1953.000000</td>\n",
       "      <td>1.000000</td>\n",
       "      <td>2.000000</td>\n",
       "      <td>2.000000</td>\n",
       "    </tr>\n",
       "    <tr>\n",
       "      <th>25%</th>\n",
       "      <td>1059.000000</td>\n",
       "      <td>2490.000000</td>\n",
       "      <td>5.698400e+04</td>\n",
       "      <td>2008.000000</td>\n",
       "      <td>2.000000</td>\n",
       "      <td>3.000000</td>\n",
       "      <td>5.000000</td>\n",
       "    </tr>\n",
       "    <tr>\n",
       "      <th>50%</th>\n",
       "      <td>2279.000000</td>\n",
       "      <td>4000.000000</td>\n",
       "      <td>8.000000e+04</td>\n",
       "      <td>2012.000000</td>\n",
       "      <td>3.000000</td>\n",
       "      <td>5.000000</td>\n",
       "      <td>5.000000</td>\n",
       "    </tr>\n",
       "    <tr>\n",
       "      <th>75%</th>\n",
       "      <td>3593.000000</td>\n",
       "      <td>7995.000000</td>\n",
       "      <td>1.030000e+05</td>\n",
       "      <td>2015.000000</td>\n",
       "      <td>4.000000</td>\n",
       "      <td>5.000000</td>\n",
       "      <td>5.000000</td>\n",
       "    </tr>\n",
       "    <tr>\n",
       "      <th>max</th>\n",
       "      <td>4727.000000</td>\n",
       "      <td>33900.000000</td>\n",
       "      <td>1.110100e+06</td>\n",
       "      <td>2023.000000</td>\n",
       "      <td>9.000000</td>\n",
       "      <td>5.000000</td>\n",
       "      <td>7.000000</td>\n",
       "    </tr>\n",
       "  </tbody>\n",
       "</table>\n",
       "</div>"
      ],
      "text/plain": [
       "        Unnamed: 0         Price  Mileage(miles)  Registration_Year  \\\n",
       "count  3685.000000   3685.000000    3.685000e+03        3685.000000   \n",
       "mean   2314.770963   5787.145726    8.132816e+04        2011.835007   \n",
       "std    1415.821308   4480.810572    3.942083e+04           5.092566   \n",
       "min       0.000000    400.000000    1.000000e+00        1953.000000   \n",
       "25%    1059.000000   2490.000000    5.698400e+04        2008.000000   \n",
       "50%    2279.000000   4000.000000    8.000000e+04        2012.000000   \n",
       "75%    3593.000000   7995.000000    1.030000e+05        2015.000000   \n",
       "max    4727.000000  33900.000000    1.110100e+06        2023.000000   \n",
       "\n",
       "       Previous Owners        Doors        Seats  \n",
       "count      2276.000000  3660.000000  3650.000000  \n",
       "mean          2.807557     4.321038     4.900274  \n",
       "std           1.546028     0.986902     0.577200  \n",
       "min           1.000000     2.000000     2.000000  \n",
       "25%           2.000000     3.000000     5.000000  \n",
       "50%           3.000000     5.000000     5.000000  \n",
       "75%           4.000000     5.000000     5.000000  \n",
       "max           9.000000     5.000000     7.000000  "
      ]
     },
     "execution_count": 7,
     "metadata": {},
     "output_type": "execute_result"
    }
   ],
   "source": [
    "df.describe()   # Statistics"
   ]
  },
  {
   "cell_type": "markdown",
   "id": "e32db412",
   "metadata": {
    "papermill": {
     "duration": 0.011768,
     "end_time": "2023-10-22T19:52:41.696682",
     "exception": false,
     "start_time": "2023-10-22T19:52:41.684914",
     "status": "completed"
    },
    "tags": []
   },
   "source": [
    "# 4. Data Preprocessing"
   ]
  },
  {
   "cell_type": "code",
   "execution_count": 8,
   "id": "2aa31617",
   "metadata": {
    "execution": {
     "iopub.execute_input": "2023-10-22T19:52:41.723933Z",
     "iopub.status.busy": "2023-10-22T19:52:41.722963Z",
     "iopub.status.idle": "2023-10-22T19:52:41.735789Z",
     "shell.execute_reply": "2023-10-22T19:52:41.734458Z"
    },
    "papermill": {
     "duration": 0.028703,
     "end_time": "2023-10-22T19:52:41.737964",
     "exception": false,
     "start_time": "2023-10-22T19:52:41.709261",
     "status": "completed"
    },
    "tags": []
   },
   "outputs": [
    {
     "data": {
      "text/plain": [
       "Unnamed: 0              0\n",
       "title                   0\n",
       "Price                   0\n",
       "Mileage(miles)          0\n",
       "Registration_Year       0\n",
       "Previous Owners      1409\n",
       "Fuel type               0\n",
       "Body type               0\n",
       "Engine                 45\n",
       "Gearbox                 0\n",
       "Doors                  25\n",
       "Seats                  35\n",
       "Emission Class         87\n",
       "Service history      3145\n",
       "dtype: int64"
      ]
     },
     "execution_count": 8,
     "metadata": {},
     "output_type": "execute_result"
    }
   ],
   "source": [
    "df.isnull().sum() "
   ]
  },
  {
   "cell_type": "markdown",
   "id": "a7cb1170",
   "metadata": {
    "papermill": {
     "duration": 0.012147,
     "end_time": "2023-10-22T19:52:41.762264",
     "exception": false,
     "start_time": "2023-10-22T19:52:41.750117",
     "status": "completed"
    },
    "tags": []
   },
   "source": [
    "**Handling Missing Values**"
   ]
  },
  {
   "cell_type": "code",
   "execution_count": 9,
   "id": "baa1c9c5",
   "metadata": {
    "execution": {
     "iopub.execute_input": "2023-10-22T19:52:41.790096Z",
     "iopub.status.busy": "2023-10-22T19:52:41.789687Z",
     "iopub.status.idle": "2023-10-22T19:52:41.800345Z",
     "shell.execute_reply": "2023-10-22T19:52:41.799129Z"
    },
    "papermill": {
     "duration": 0.027105,
     "end_time": "2023-10-22T19:52:41.802896",
     "exception": false,
     "start_time": "2023-10-22T19:52:41.775791",
     "status": "completed"
    },
    "tags": []
   },
   "outputs": [],
   "source": [
    "df['Previous Owners'].fillna(df['Previous Owners'].mean(), inplace=True)\n",
    "\n",
    "df['Doors'].fillna(df['Doors'].mean(), inplace=True)\n",
    "\n",
    "df['Seats'].fillna(df['Seats'].mean(), inplace=True)"
   ]
  },
  {
   "cell_type": "markdown",
   "id": "924de972",
   "metadata": {
    "papermill": {
     "duration": 0.011691,
     "end_time": "2023-10-22T19:52:41.826721",
     "exception": false,
     "start_time": "2023-10-22T19:52:41.815030",
     "status": "completed"
    },
    "tags": []
   },
   "source": [
    "**Removing irrelevant features**"
   ]
  },
  {
   "cell_type": "code",
   "execution_count": 10,
   "id": "0985f6a7",
   "metadata": {
    "execution": {
     "iopub.execute_input": "2023-10-22T19:52:41.853042Z",
     "iopub.status.busy": "2023-10-22T19:52:41.852623Z",
     "iopub.status.idle": "2023-10-22T19:52:41.868380Z",
     "shell.execute_reply": "2023-10-22T19:52:41.866640Z"
    },
    "papermill": {
     "duration": 0.032799,
     "end_time": "2023-10-22T19:52:41.871873",
     "exception": false,
     "start_time": "2023-10-22T19:52:41.839074",
     "status": "completed"
    },
    "tags": []
   },
   "outputs": [],
   "source": [
    "df=df.drop(['Unnamed: 0','Service history','title','Registration_Year'], axis=1)\n",
    "\n",
    "df.dropna(subset=['Emission Class'], inplace=True)"
   ]
  },
  {
   "cell_type": "markdown",
   "id": "ac197b3c",
   "metadata": {
    "papermill": {
     "duration": 0.01175,
     "end_time": "2023-10-22T19:52:41.896643",
     "exception": false,
     "start_time": "2023-10-22T19:52:41.884893",
     "status": "completed"
    },
    "tags": []
   },
   "source": [
    "**Regex : Regular Expressions**"
   ]
  },
  {
   "cell_type": "code",
   "execution_count": 11,
   "id": "1d6f444d",
   "metadata": {
    "execution": {
     "iopub.execute_input": "2023-10-22T19:52:41.922692Z",
     "iopub.status.busy": "2023-10-22T19:52:41.922273Z",
     "iopub.status.idle": "2023-10-22T19:52:41.934962Z",
     "shell.execute_reply": "2023-10-22T19:52:41.933690Z"
    },
    "papermill": {
     "duration": 0.029014,
     "end_time": "2023-10-22T19:52:41.937604",
     "exception": false,
     "start_time": "2023-10-22T19:52:41.908590",
     "status": "completed"
    },
    "tags": []
   },
   "outputs": [],
   "source": [
    "# Remove 'L' using regex\n",
    "\n",
    "df['Engine'] = df['Engine'].str.replace('L', '', regex=True).astype(float)\n",
    "\n",
    "df['Engine'].fillna(0, inplace=True)"
   ]
  },
  {
   "cell_type": "code",
   "execution_count": 12,
   "id": "ccd95c79",
   "metadata": {
    "execution": {
     "iopub.execute_input": "2023-10-22T19:52:41.964163Z",
     "iopub.status.busy": "2023-10-22T19:52:41.963762Z",
     "iopub.status.idle": "2023-10-22T19:52:41.974878Z",
     "shell.execute_reply": "2023-10-22T19:52:41.973692Z"
    },
    "papermill": {
     "duration": 0.027158,
     "end_time": "2023-10-22T19:52:41.977364",
     "exception": false,
     "start_time": "2023-10-22T19:52:41.950206",
     "status": "completed"
    },
    "tags": []
   },
   "outputs": [],
   "source": [
    "# Remove 'Euro' prefix  using regex\n",
    "\n",
    "df['Emission Class'] = df['Emission Class'].str.replace('Euro', '', regex=True).astype(int)\n"
   ]
  },
  {
   "cell_type": "markdown",
   "id": "901170a4",
   "metadata": {
    "papermill": {
     "duration": 0.011662,
     "end_time": "2023-10-22T19:52:42.001474",
     "exception": false,
     "start_time": "2023-10-22T19:52:41.989812",
     "status": "completed"
    },
    "tags": []
   },
   "source": [
    "**Label encoding**"
   ]
  },
  {
   "cell_type": "code",
   "execution_count": 13,
   "id": "5c3a08c2",
   "metadata": {
    "execution": {
     "iopub.execute_input": "2023-10-22T19:52:42.027622Z",
     "iopub.status.busy": "2023-10-22T19:52:42.027217Z",
     "iopub.status.idle": "2023-10-22T19:52:42.219504Z",
     "shell.execute_reply": "2023-10-22T19:52:42.218314Z"
    },
    "papermill": {
     "duration": 0.208692,
     "end_time": "2023-10-22T19:52:42.222199",
     "exception": false,
     "start_time": "2023-10-22T19:52:42.013507",
     "status": "completed"
    },
    "tags": []
   },
   "outputs": [],
   "source": [
    "from sklearn.preprocessing import LabelEncoder\n",
    "\n",
    "label_encoder = LabelEncoder()"
   ]
  },
  {
   "cell_type": "code",
   "execution_count": 14,
   "id": "a34b2c05",
   "metadata": {
    "execution": {
     "iopub.execute_input": "2023-10-22T19:52:42.248187Z",
     "iopub.status.busy": "2023-10-22T19:52:42.247682Z",
     "iopub.status.idle": "2023-10-22T19:52:42.259787Z",
     "shell.execute_reply": "2023-10-22T19:52:42.258286Z"
    },
    "papermill": {
     "duration": 0.028304,
     "end_time": "2023-10-22T19:52:42.262505",
     "exception": false,
     "start_time": "2023-10-22T19:52:42.234201",
     "status": "completed"
    },
    "tags": []
   },
   "outputs": [],
   "source": [
    "categorical_columns = ['Fuel type', 'Body type', 'Gearbox']\n",
    "\n",
    "# Apply label encoding to each categorical column\n",
    "\n",
    "for column in categorical_columns:\n",
    "    df[column] = label_encoder.fit_transform(df[column])"
   ]
  },
  {
   "cell_type": "code",
   "execution_count": 15,
   "id": "4fbba787",
   "metadata": {
    "execution": {
     "iopub.execute_input": "2023-10-22T19:52:42.290612Z",
     "iopub.status.busy": "2023-10-22T19:52:42.290186Z",
     "iopub.status.idle": "2023-10-22T19:52:42.308572Z",
     "shell.execute_reply": "2023-10-22T19:52:42.307264Z"
    },
    "papermill": {
     "duration": 0.035232,
     "end_time": "2023-10-22T19:52:42.311148",
     "exception": false,
     "start_time": "2023-10-22T19:52:42.275916",
     "status": "completed"
    },
    "tags": []
   },
   "outputs": [
    {
     "data": {
      "text/html": [
       "<div>\n",
       "<style scoped>\n",
       "    .dataframe tbody tr th:only-of-type {\n",
       "        vertical-align: middle;\n",
       "    }\n",
       "\n",
       "    .dataframe tbody tr th {\n",
       "        vertical-align: top;\n",
       "    }\n",
       "\n",
       "    .dataframe thead th {\n",
       "        text-align: right;\n",
       "    }\n",
       "</style>\n",
       "<table border=\"1\" class=\"dataframe\">\n",
       "  <thead>\n",
       "    <tr style=\"text-align: right;\">\n",
       "      <th></th>\n",
       "      <th>Price</th>\n",
       "      <th>Mileage(miles)</th>\n",
       "      <th>Previous Owners</th>\n",
       "      <th>Fuel type</th>\n",
       "      <th>Body type</th>\n",
       "      <th>Engine</th>\n",
       "      <th>Gearbox</th>\n",
       "      <th>Doors</th>\n",
       "      <th>Seats</th>\n",
       "      <th>Emission Class</th>\n",
       "    </tr>\n",
       "  </thead>\n",
       "  <tbody>\n",
       "    <tr>\n",
       "      <th>0</th>\n",
       "      <td>6900</td>\n",
       "      <td>70189</td>\n",
       "      <td>3.000000</td>\n",
       "      <td>0</td>\n",
       "      <td>4</td>\n",
       "      <td>1.4</td>\n",
       "      <td>1</td>\n",
       "      <td>5.0</td>\n",
       "      <td>5.0</td>\n",
       "      <td>6</td>\n",
       "    </tr>\n",
       "    <tr>\n",
       "      <th>1</th>\n",
       "      <td>1495</td>\n",
       "      <td>88585</td>\n",
       "      <td>4.000000</td>\n",
       "      <td>2</td>\n",
       "      <td>4</td>\n",
       "      <td>1.2</td>\n",
       "      <td>1</td>\n",
       "      <td>3.0</td>\n",
       "      <td>5.0</td>\n",
       "      <td>4</td>\n",
       "    </tr>\n",
       "    <tr>\n",
       "      <th>2</th>\n",
       "      <td>949</td>\n",
       "      <td>137000</td>\n",
       "      <td>2.807557</td>\n",
       "      <td>2</td>\n",
       "      <td>4</td>\n",
       "      <td>1.4</td>\n",
       "      <td>1</td>\n",
       "      <td>5.0</td>\n",
       "      <td>5.0</td>\n",
       "      <td>5</td>\n",
       "    </tr>\n",
       "    <tr>\n",
       "      <th>3</th>\n",
       "      <td>2395</td>\n",
       "      <td>96731</td>\n",
       "      <td>5.000000</td>\n",
       "      <td>2</td>\n",
       "      <td>4</td>\n",
       "      <td>1.4</td>\n",
       "      <td>1</td>\n",
       "      <td>3.0</td>\n",
       "      <td>4.0</td>\n",
       "      <td>4</td>\n",
       "    </tr>\n",
       "    <tr>\n",
       "      <th>4</th>\n",
       "      <td>1000</td>\n",
       "      <td>85000</td>\n",
       "      <td>2.807557</td>\n",
       "      <td>0</td>\n",
       "      <td>4</td>\n",
       "      <td>1.3</td>\n",
       "      <td>1</td>\n",
       "      <td>5.0</td>\n",
       "      <td>5.0</td>\n",
       "      <td>5</td>\n",
       "    </tr>\n",
       "  </tbody>\n",
       "</table>\n",
       "</div>"
      ],
      "text/plain": [
       "   Price  Mileage(miles)  Previous Owners  Fuel type  Body type  Engine  \\\n",
       "0   6900           70189         3.000000          0          4     1.4   \n",
       "1   1495           88585         4.000000          2          4     1.2   \n",
       "2    949          137000         2.807557          2          4     1.4   \n",
       "3   2395           96731         5.000000          2          4     1.4   \n",
       "4   1000           85000         2.807557          0          4     1.3   \n",
       "\n",
       "   Gearbox  Doors  Seats  Emission Class  \n",
       "0        1    5.0    5.0               6  \n",
       "1        1    3.0    5.0               4  \n",
       "2        1    5.0    5.0               5  \n",
       "3        1    3.0    4.0               4  \n",
       "4        1    5.0    5.0               5  "
      ]
     },
     "execution_count": 15,
     "metadata": {},
     "output_type": "execute_result"
    }
   ],
   "source": [
    "df.head()"
   ]
  },
  {
   "cell_type": "markdown",
   "id": "7dd907b6",
   "metadata": {
    "papermill": {
     "duration": 0.012143,
     "end_time": "2023-10-22T19:52:42.335637",
     "exception": false,
     "start_time": "2023-10-22T19:52:42.323494",
     "status": "completed"
    },
    "tags": []
   },
   "source": [
    "**Define features and the target variable**"
   ]
  },
  {
   "cell_type": "code",
   "execution_count": 16,
   "id": "b4758951",
   "metadata": {
    "execution": {
     "iopub.execute_input": "2023-10-22T19:52:42.362682Z",
     "iopub.status.busy": "2023-10-22T19:52:42.362266Z",
     "iopub.status.idle": "2023-10-22T19:52:42.368961Z",
     "shell.execute_reply": "2023-10-22T19:52:42.367377Z"
    },
    "papermill": {
     "duration": 0.023853,
     "end_time": "2023-10-22T19:52:42.371833",
     "exception": false,
     "start_time": "2023-10-22T19:52:42.347980",
     "status": "completed"
    },
    "tags": []
   },
   "outputs": [],
   "source": [
    "X = df.drop('Price', axis=1)\n",
    "y = df['Price']\n"
   ]
  },
  {
   "cell_type": "markdown",
   "id": "7c0d99ed",
   "metadata": {
    "papermill": {
     "duration": 0.0738,
     "end_time": "2023-10-22T19:52:42.458081",
     "exception": false,
     "start_time": "2023-10-22T19:52:42.384281",
     "status": "completed"
    },
    "tags": []
   },
   "source": [
    "# 5. Data Splitting"
   ]
  },
  {
   "cell_type": "code",
   "execution_count": 17,
   "id": "86b1e488",
   "metadata": {
    "execution": {
     "iopub.execute_input": "2023-10-22T19:52:42.484786Z",
     "iopub.status.busy": "2023-10-22T19:52:42.484410Z",
     "iopub.status.idle": "2023-10-22T19:52:42.616869Z",
     "shell.execute_reply": "2023-10-22T19:52:42.615263Z"
    },
    "papermill": {
     "duration": 0.1498,
     "end_time": "2023-10-22T19:52:42.620328",
     "exception": false,
     "start_time": "2023-10-22T19:52:42.470528",
     "status": "completed"
    },
    "tags": []
   },
   "outputs": [],
   "source": [
    "from sklearn.model_selection import train_test_split"
   ]
  },
  {
   "cell_type": "code",
   "execution_count": 18,
   "id": "cb64cb49",
   "metadata": {
    "execution": {
     "iopub.execute_input": "2023-10-22T19:52:42.648092Z",
     "iopub.status.busy": "2023-10-22T19:52:42.647722Z",
     "iopub.status.idle": "2023-10-22T19:52:42.655623Z",
     "shell.execute_reply": "2023-10-22T19:52:42.654645Z"
    },
    "papermill": {
     "duration": 0.024245,
     "end_time": "2023-10-22T19:52:42.657982",
     "exception": false,
     "start_time": "2023-10-22T19:52:42.633737",
     "status": "completed"
    },
    "tags": []
   },
   "outputs": [],
   "source": [
    "# Split the data into training and testing sets\n",
    "X_train, X_test, y_train, y_test = train_test_split(X, y, test_size=0.2, random_state=42)"
   ]
  },
  {
   "cell_type": "markdown",
   "id": "dbc7abcb",
   "metadata": {
    "papermill": {
     "duration": 0.012041,
     "end_time": "2023-10-22T19:52:42.682566",
     "exception": false,
     "start_time": "2023-10-22T19:52:42.670525",
     "status": "completed"
    },
    "tags": []
   },
   "source": [
    "# 6. Model Building"
   ]
  },
  {
   "cell_type": "markdown",
   "id": "b8c217f4",
   "metadata": {
    "papermill": {
     "duration": 0.012091,
     "end_time": "2023-10-22T19:52:42.707625",
     "exception": false,
     "start_time": "2023-10-22T19:52:42.695534",
     "status": "completed"
    },
    "tags": []
   },
   "source": [
    "**Model Selection**"
   ]
  },
  {
   "cell_type": "code",
   "execution_count": 19,
   "id": "94016c5f",
   "metadata": {
    "execution": {
     "iopub.execute_input": "2023-10-22T19:52:42.734449Z",
     "iopub.status.busy": "2023-10-22T19:52:42.734024Z",
     "iopub.status.idle": "2023-10-22T19:52:42.871139Z",
     "shell.execute_reply": "2023-10-22T19:52:42.869954Z"
    },
    "papermill": {
     "duration": 0.154012,
     "end_time": "2023-10-22T19:52:42.874081",
     "exception": false,
     "start_time": "2023-10-22T19:52:42.720069",
     "status": "completed"
    },
    "tags": []
   },
   "outputs": [],
   "source": [
    "from sklearn.linear_model import LinearRegression\n",
    "\n",
    "model = LinearRegression()"
   ]
  },
  {
   "cell_type": "markdown",
   "id": "b3e07947",
   "metadata": {
    "papermill": {
     "duration": 0.012266,
     "end_time": "2023-10-22T19:52:42.899551",
     "exception": false,
     "start_time": "2023-10-22T19:52:42.887285",
     "status": "completed"
    },
    "tags": []
   },
   "source": [
    "**Model Training**"
   ]
  },
  {
   "cell_type": "code",
   "execution_count": 20,
   "id": "775f3a2d",
   "metadata": {
    "execution": {
     "iopub.execute_input": "2023-10-22T19:52:42.927289Z",
     "iopub.status.busy": "2023-10-22T19:52:42.926197Z",
     "iopub.status.idle": "2023-10-22T19:52:42.966488Z",
     "shell.execute_reply": "2023-10-22T19:52:42.965360Z"
    },
    "papermill": {
     "duration": 0.059028,
     "end_time": "2023-10-22T19:52:42.971108",
     "exception": false,
     "start_time": "2023-10-22T19:52:42.912080",
     "status": "completed"
    },
    "tags": []
   },
   "outputs": [],
   "source": [
    "model.fit(X_train, y_train)\n",
    "\n",
    "\n",
    "# Make predictions on the test set\n",
    "y_pred = model.predict(X_test)"
   ]
  },
  {
   "cell_type": "markdown",
   "id": "5a92c211",
   "metadata": {
    "papermill": {
     "duration": 0.012123,
     "end_time": "2023-10-22T19:52:43.003455",
     "exception": false,
     "start_time": "2023-10-22T19:52:42.991332",
     "status": "completed"
    },
    "tags": []
   },
   "source": [
    "# 7. Evaluation"
   ]
  },
  {
   "cell_type": "code",
   "execution_count": 21,
   "id": "ba81aeed",
   "metadata": {
    "execution": {
     "iopub.execute_input": "2023-10-22T19:52:43.032533Z",
     "iopub.status.busy": "2023-10-22T19:52:43.031396Z",
     "iopub.status.idle": "2023-10-22T19:52:43.038766Z",
     "shell.execute_reply": "2023-10-22T19:52:43.037263Z"
    },
    "papermill": {
     "duration": 0.02571,
     "end_time": "2023-10-22T19:52:43.041670",
     "exception": false,
     "start_time": "2023-10-22T19:52:43.015960",
     "status": "completed"
    },
    "tags": []
   },
   "outputs": [],
   "source": [
    "from sklearn.metrics import mean_absolute_error, mean_squared_error, r2_score"
   ]
  },
  {
   "cell_type": "code",
   "execution_count": 22,
   "id": "d2bc910a",
   "metadata": {
    "execution": {
     "iopub.execute_input": "2023-10-22T19:52:43.072777Z",
     "iopub.status.busy": "2023-10-22T19:52:43.071100Z",
     "iopub.status.idle": "2023-10-22T19:52:43.084550Z",
     "shell.execute_reply": "2023-10-22T19:52:43.083051Z"
    },
    "papermill": {
     "duration": 0.032733,
     "end_time": "2023-10-22T19:52:43.087352",
     "exception": false,
     "start_time": "2023-10-22T19:52:43.054619",
     "status": "completed"
    },
    "tags": []
   },
   "outputs": [
    {
     "name": "stdout",
     "output_type": "stream",
     "text": [
      "Mean Absolute Error (MAE): 1879.60\n",
      "Mean Squared Error (MSE): 7345176.72\n",
      "Root Mean Squared Error (RMSE): 2710.20\n",
      "R-squared (R2): 0.67\n"
     ]
    }
   ],
   "source": [
    "# Evaluate the model\n",
    "\n",
    "mae = mean_absolute_error(y_test, y_pred)\n",
    "mse = mean_squared_error(y_test, y_pred)\n",
    "rmse = np.sqrt(mse)\n",
    "r2 = r2_score(y_test, y_pred)\n",
    "\n",
    "\n",
    "print(f\"Mean Absolute Error (MAE): {mae:.2f}\")\n",
    "print(f\"Mean Squared Error (MSE): {mse:.2f}\")\n",
    "print(f\"Root Mean Squared Error (RMSE): {rmse:.2f}\")\n",
    "print(f\"R-squared (R2): {r2:.2f}\")"
   ]
  },
  {
   "cell_type": "markdown",
   "id": "d740c738",
   "metadata": {
    "papermill": {
     "duration": 0.012113,
     "end_time": "2023-10-22T19:52:43.112226",
     "exception": false,
     "start_time": "2023-10-22T19:52:43.100113",
     "status": "completed"
    },
    "tags": []
   },
   "source": [
    "# 8. Scatter Plot with Regression Line"
   ]
  },
  {
   "cell_type": "code",
   "execution_count": 23,
   "id": "b0b77313",
   "metadata": {
    "execution": {
     "iopub.execute_input": "2023-10-22T19:52:43.141306Z",
     "iopub.status.busy": "2023-10-22T19:52:43.140500Z",
     "iopub.status.idle": "2023-10-22T19:52:43.780115Z",
     "shell.execute_reply": "2023-10-22T19:52:43.779278Z"
    },
    "papermill": {
     "duration": 0.658274,
     "end_time": "2023-10-22T19:52:43.784109",
     "exception": false,
     "start_time": "2023-10-22T19:52:43.125835",
     "status": "completed"
    },
    "tags": []
   },
   "outputs": [
    {
     "data": {
      "image/png": "[encoded data removed]",
      "text/plain": [
       "<Figure size 1000x600 with 1 Axes>"
      ]
     },
     "metadata": {},
     "output_type": "display_data"
    }
   ],
   "source": [
    "plt.figure(figsize=(10, 6))\n",
    "\n",
    "# Create a scatterplot \n",
    "sns.scatterplot(x=y_test, y=y_pred, color='b', alpha=0.9, edgecolor='k', s=80)\n",
    "\n",
    "# Add a regression line\n",
    "sns.regplot(x=y_test, y=y_pred, scatter=False, color='r', line_kws={\"color\": \"orange\", \"lw\": 2})\n",
    "\n",
    "\n",
    "plt.xlabel(\"Actual Values\", fontsize=14)\n",
    "plt.ylabel(\"Predicted Values\", fontsize=14)\n",
    "plt.title(\"Model Performance - Actual vs. Predicted Values\", fontsize=16)\n",
    "\n",
    "\n",
    "plt.show()"
   ]
  }
 ],
 "metadata": {
  "kernelspec": {
   "display_name": "Python 3",
   "language": "python",
   "name": "python3"
  },
  "language_info": {
   "codemirror_mode": {
    "name": "ipython",
    "version": 3
   },
   "file_extension": ".py",
   "mimetype": "text/x-python",
   "name": "python",
   "nbconvert_exporter": "python",
   "pygments_lexer": "ipython3",
   "version": "3.10.12"
  },
  "papermill": {
   "default_parameters": {},
   "duration": 9.358493,
   "end_time": "2023-10-22T19:52:44.529253",
   "environment_variables": {},
   "exception": null,
   "input_path": "__notebook__.ipynb",
   "output_path": "__notebook__.ipynb",
   "parameters": {},
   "start_time": "2023-10-22T19:52:35.170760",
   "version": "2.4.0"
  }
 },
 "nbformat": 4,
 "nbformat_minor": 5
}
