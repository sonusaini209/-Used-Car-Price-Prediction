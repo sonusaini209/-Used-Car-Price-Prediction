{
 "cells": [
  {
   "cell_type": "code",
   "execution_count": 1,
   "id": "2ca67923",
   "metadata": {
    "_cell_guid": "b1076dfc-b9ad-4769-8c92-a6c4dae69d19",
    "_uuid": "8f2839f25d086af736a60e9eeb907d3b93b6e0e5",
    "execution": {
     "iopub.execute_input": "2023-10-22T19:49:59.760810Z",
     "iopub.status.busy": "2023-10-22T19:49:59.760057Z",
     "iopub.status.idle": "2023-10-22T19:50:00.166889Z",
     "shell.execute_reply": "2023-10-22T19:50:00.165522Z"
    },
    "papermill": {
     "duration": 0.422371,
     "end_time": "2023-10-22T19:50:00.171938",
     "exception": false,
     "start_time": "2023-10-22T19:49:59.749567",
     "status": "completed"
    },
    "tags": []
   },
   "outputs": [
    {
     "name": "stdout",
     "output_type": "stream",
     "text": [
      "/kaggle/input/used-cars-prices-in-uk/used_cars_UK.csv\n"
     ]
    }
   ],
   "source": [
    "# This Python 3 environment comes with many helpful analytics libraries installed\n",
    "# It is defined by the kaggle/python Docker image: https://github.com/kaggle/docker-python\n",
    "# For example, here's several helpful packages to load\n",
    "\n",
    "import numpy as np # linear algebra\n",
    "import pandas as pd # data processing, CSV file I/O (e.g. pd.read_csv)\n",
    "\n",
    "# Input data files are available in the read-only \"../input/\" directory\n",
    "# For example, running this (by clicking run or pressing Shift+Enter) will list all files under the input directory\n",
    "\n",
    "import os\n",
    "for dirname, _, filenames in os.walk('/kaggle/input'):\n",
    "    for filename in filenames:\n",
    "        print(os.path.join(dirname, filename))\n",
    "\n",
    "# You can write up to 20GB to the current directory (/kaggle/working/) that gets preserved as output when you create a version using \"Save & Run All\" \n",
    "# You can also write temporary files to /kaggle/temp/, but they won't be saved outside of the current session"
   ]
  },
  {
   "cell_type": "markdown",
   "id": "2a75153b",
   "metadata": {
    "papermill": {
     "duration": 0.011791,
     "end_time": "2023-10-22T19:50:00.195797",
     "exception": false,
     "start_time": "2023-10-22T19:50:00.184006",
     "status": "completed"
    },
    "tags": []
   },
   "source": [
    "# 1. Import necessary libraries"
   ]
  },
  {
   "cell_type": "code",
   "execution_count": 2,
   "id": "5d3a2c62",
   "metadata": {
    "execution": {
     "iopub.execute_input": "2023-10-22T19:50:00.221962Z",
     "iopub.status.busy": "2023-10-22T19:50:00.220922Z",
     "iopub.status.idle": "2023-10-22T19:50:01.659041Z",
     "shell.execute_reply": "2023-10-22T19:50:01.657824Z"
    },
    "papermill": {
     "duration": 1.454248,
     "end_time": "2023-10-22T19:50:01.661867",
     "exception": false,
     "start_time": "2023-10-22T19:50:00.207619",
     "status": "completed"
    },
    "tags": []
   },
   "outputs": [],
   "source": [
    "import numpy as np \n",
    "import pandas as pd\n",
    "from matplotlib import pyplot as plt\n",
    "import seaborn as sns"
   ]
  },
  {
   "cell_type": "markdown",
   "id": "ad0bc425",
   "metadata": {
    "papermill": {
     "duration": 0.007624,
     "end_time": "2023-10-22T19:50:01.677381",
     "exception": false,
     "start_time": "2023-10-22T19:50:01.669757",
     "status": "completed"
    },
    "tags": []
   },
   "source": [
    "# 2. Load the dataset"
   ]
  },
  {
   "cell_type": "code",
   "execution_count": 3,
   "id": "2c592816",
   "metadata": {
    "execution": {
     "iopub.execute_input": "2023-10-22T19:50:01.694589Z",
     "iopub.status.busy": "2023-10-22T19:50:01.694171Z",
     "iopub.status.idle": "2023-10-22T19:50:01.725743Z",
     "shell.execute_reply": "2023-10-22T19:50:01.724460Z"
    },
    "papermill": {
     "duration": 0.043344,
     "end_time": "2023-10-22T19:50:01.728479",
     "exception": false,
     "start_time": "2023-10-22T19:50:01.685135",
     "status": "completed"
    },
    "tags": []
   },
   "outputs": [],
   "source": [
    "df=pd.read_csv(\"/kaggle/input/used-cars-prices-in-uk/used_cars_UK.csv\")"
   ]
  },
  {
   "cell_type": "markdown",
   "id": "100004dc",
   "metadata": {
    "papermill": {
     "duration": 0.007306,
     "end_time": "2023-10-22T19:50:01.743690",
     "exception": false,
     "start_time": "2023-10-22T19:50:01.736384",
     "status": "completed"
    },
    "tags": []
   },
   "source": [
    "# 3.  Basic Data Exploration"
   ]
  },
  {
   "cell_type": "code",
   "execution_count": 4,
   "id": "e2490add",
   "metadata": {
    "execution": {
     "iopub.execute_input": "2023-10-22T19:50:01.760673Z",
     "iopub.status.busy": "2023-10-22T19:50:01.760303Z",
     "iopub.status.idle": "2023-10-22T19:50:01.788693Z",
     "shell.execute_reply": "2023-10-22T19:50:01.787573Z"
    },
    "papermill": {
     "duration": 0.039767,
     "end_time": "2023-10-22T19:50:01.791122",
     "exception": false,
     "start_time": "2023-10-22T19:50:01.751355",
     "status": "completed"
    },
    "tags": []
   },
   "outputs": [
    {
     "data": {
      "text/html": [
       "<div>\n",
       "<style scoped>\n",
       "    .dataframe tbody tr th:only-of-type {\n",
       "        vertical-align: middle;\n",
       "    }\n",
       "\n",
       "    .dataframe tbody tr th {\n",
       "        vertical-align: top;\n",
       "    }\n",
       "\n",
       "    .dataframe thead th {\n",
       "        text-align: right;\n",
       "    }\n",
       "</style>\n",
       "<table border=\"1\" class=\"dataframe\">\n",
       "  <thead>\n",
       "    <tr style=\"text-align: right;\">\n",
       "      <th></th>\n",
       "      <th>Unnamed: 0</th>\n",
       "      <th>title</th>\n",
       "      <th>Price</th>\n",
       "      <th>Mileage(miles)</th>\n",
       "      <th>Registration_Year</th>\n",
       "      <th>Previous Owners</th>\n",
       "      <th>Fuel type</th>\n",
       "      <th>Body type</th>\n",
       "      <th>Engine</th>\n",
       "      <th>Gearbox</th>\n",
       "      <th>Doors</th>\n",
       "      <th>Seats</th>\n",
       "      <th>Emission Class</th>\n",
       "      <th>Service history</th>\n",
       "    </tr>\n",
       "  </thead>\n",
       "  <tbody>\n",
       "    <tr>\n",
       "      <th>0</th>\n",
       "      <td>0</td>\n",
       "      <td>SKODA Fabia</td>\n",
       "      <td>6900</td>\n",
       "      <td>70189</td>\n",
       "      <td>2016</td>\n",
       "      <td>3.0</td>\n",
       "      <td>Diesel</td>\n",
       "      <td>Hatchback</td>\n",
       "      <td>1.4L</td>\n",
       "      <td>Manual</td>\n",
       "      <td>5.0</td>\n",
       "      <td>5.0</td>\n",
       "      <td>Euro 6</td>\n",
       "      <td>NaN</td>\n",
       "    </tr>\n",
       "    <tr>\n",
       "      <th>1</th>\n",
       "      <td>1</td>\n",
       "      <td>Vauxhall Corsa</td>\n",
       "      <td>1495</td>\n",
       "      <td>88585</td>\n",
       "      <td>2008</td>\n",
       "      <td>4.0</td>\n",
       "      <td>Petrol</td>\n",
       "      <td>Hatchback</td>\n",
       "      <td>1.2L</td>\n",
       "      <td>Manual</td>\n",
       "      <td>3.0</td>\n",
       "      <td>5.0</td>\n",
       "      <td>Euro 4</td>\n",
       "      <td>Full</td>\n",
       "    </tr>\n",
       "    <tr>\n",
       "      <th>2</th>\n",
       "      <td>2</td>\n",
       "      <td>Hyundai i30</td>\n",
       "      <td>949</td>\n",
       "      <td>137000</td>\n",
       "      <td>2011</td>\n",
       "      <td>NaN</td>\n",
       "      <td>Petrol</td>\n",
       "      <td>Hatchback</td>\n",
       "      <td>1.4L</td>\n",
       "      <td>Manual</td>\n",
       "      <td>5.0</td>\n",
       "      <td>5.0</td>\n",
       "      <td>Euro 5</td>\n",
       "      <td>NaN</td>\n",
       "    </tr>\n",
       "    <tr>\n",
       "      <th>3</th>\n",
       "      <td>3</td>\n",
       "      <td>MINI Hatch</td>\n",
       "      <td>2395</td>\n",
       "      <td>96731</td>\n",
       "      <td>2010</td>\n",
       "      <td>5.0</td>\n",
       "      <td>Petrol</td>\n",
       "      <td>Hatchback</td>\n",
       "      <td>1.4L</td>\n",
       "      <td>Manual</td>\n",
       "      <td>3.0</td>\n",
       "      <td>4.0</td>\n",
       "      <td>Euro 4</td>\n",
       "      <td>Full</td>\n",
       "    </tr>\n",
       "    <tr>\n",
       "      <th>4</th>\n",
       "      <td>4</td>\n",
       "      <td>Vauxhall Corsa</td>\n",
       "      <td>1000</td>\n",
       "      <td>85000</td>\n",
       "      <td>2013</td>\n",
       "      <td>NaN</td>\n",
       "      <td>Diesel</td>\n",
       "      <td>Hatchback</td>\n",
       "      <td>1.3L</td>\n",
       "      <td>Manual</td>\n",
       "      <td>5.0</td>\n",
       "      <td>5.0</td>\n",
       "      <td>Euro 5</td>\n",
       "      <td>NaN</td>\n",
       "    </tr>\n",
       "  </tbody>\n",
       "</table>\n",
       "</div>"
      ],
      "text/plain": [
       "   Unnamed: 0           title  Price  Mileage(miles)  Registration_Year  \\\n",
       "0           0     SKODA Fabia   6900           70189               2016   \n",
       "1           1  Vauxhall Corsa   1495           88585               2008   \n",
       "2           2     Hyundai i30    949          137000               2011   \n",
       "3           3      MINI Hatch   2395           96731               2010   \n",
       "4           4  Vauxhall Corsa   1000           85000               2013   \n",
       "\n",
       "   Previous Owners Fuel type  Body type Engine Gearbox  Doors  Seats  \\\n",
       "0              3.0    Diesel  Hatchback   1.4L  Manual    5.0    5.0   \n",
       "1              4.0    Petrol  Hatchback   1.2L  Manual    3.0    5.0   \n",
       "2              NaN    Petrol  Hatchback   1.4L  Manual    5.0    5.0   \n",
       "3              5.0    Petrol  Hatchback   1.4L  Manual    3.0    4.0   \n",
       "4              NaN    Diesel  Hatchback   1.3L  Manual    5.0    5.0   \n",
       "\n",
       "  Emission Class Service history  \n",
       "0         Euro 6             NaN  \n",
       "1         Euro 4            Full  \n",
       "2         Euro 5             NaN  \n",
       "3         Euro 4            Full  \n",
       "4         Euro 5             NaN  "
      ]
     },
     "execution_count": 4,
     "metadata": {},
     "output_type": "execute_result"
    }
   ],
   "source": [
    "df.head()"
   ]
  },
  {
   "cell_type": "code",
   "execution_count": 5,
   "id": "a5349c37",
   "metadata": {
    "execution": {
     "iopub.execute_input": "2023-10-22T19:50:01.809348Z",
     "iopub.status.busy": "2023-10-22T19:50:01.808977Z",
     "iopub.status.idle": "2023-10-22T19:50:01.815737Z",
     "shell.execute_reply": "2023-10-22T19:50:01.814722Z"
    },
    "papermill": {
     "duration": 0.018542,
     "end_time": "2023-10-22T19:50:01.817808",
     "exception": false,
     "start_time": "2023-10-22T19:50:01.799266",
     "status": "completed"
    },
    "tags": []
   },
   "outputs": [
    {
     "data": {
      "text/plain": [
       "(3685, 14)"
      ]
     },
     "execution_count": 5,
     "metadata": {},
     "output_type": "execute_result"
    }
   ],
   "source": [
    "df.shape  # Dataset Shape"
   ]
  },
  {
   "cell_type": "code",
   "execution_count": 6,
   "id": "090c74f8",
   "metadata": {
    "execution": {
     "iopub.execute_input": "2023-10-22T19:50:01.835941Z",
     "iopub.status.busy": "2023-10-22T19:50:01.835364Z",
     "iopub.status.idle": "2023-10-22T19:50:01.861223Z",
     "shell.execute_reply": "2023-10-22T19:50:01.859806Z"
    },
    "papermill": {
     "duration": 0.038191,
     "end_time": "2023-10-22T19:50:01.863978",
     "exception": false,
     "start_time": "2023-10-22T19:50:01.825787",
     "status": "completed"
    },
    "tags": []
   },
   "outputs": [
    {
     "name": "stdout",
     "output_type": "stream",
     "text": [
      "<class 'pandas.core.frame.DataFrame'>\n",
      "RangeIndex: 3685 entries, 0 to 3684\n",
      "Data columns (total 14 columns):\n",
      " #   Column             Non-Null Count  Dtype  \n",
      "---  ------             --------------  -----  \n",
      " 0   Unnamed: 0         3685 non-null   int64  \n",
      " 1   title              3685 non-null   object \n",
      " 2   Price              3685 non-null   int64  \n",
      " 3   Mileage(miles)     3685 non-null   int64  \n",
      " 4   Registration_Year  3685 non-null   int64  \n",
      " 5   Previous Owners    2276 non-null   float64\n",
      " 6   Fuel type          3685 non-null   object \n",
      " 7   Body type          3685 non-null   object \n",
      " 8   Engine             3640 non-null   object \n",
      " 9   Gearbox            3685 non-null   object \n",
      " 10  Doors              3660 non-null   float64\n",
      " 11  Seats              3650 non-null   float64\n",
      " 12  Emission Class     3598 non-null   object \n",
      " 13  Service history    540 non-null    object \n",
      "dtypes: float64(3), int64(4), object(7)\n",
      "memory usage: 403.2+ KB\n"
     ]
    }
   ],
   "source": [
    "df.info() # Dataset Information"
   ]
  },
  {
   "cell_type": "code",
   "execution_count": 7,
   "id": "932a8d01",
   "metadata": {
    "execution": {
     "iopub.execute_input": "2023-10-22T19:50:01.883484Z",
     "iopub.status.busy": "2023-10-22T19:50:01.882831Z",
     "iopub.status.idle": "2023-10-22T19:50:01.916401Z",
     "shell.execute_reply": "2023-10-22T19:50:01.915249Z"
    },
    "papermill": {
     "duration": 0.046128,
     "end_time": "2023-10-22T19:50:01.918794",
     "exception": false,
     "start_time": "2023-10-22T19:50:01.872666",
     "status": "completed"
    },
    "tags": []
   },
   "outputs": [
    {
     "data": {
      "text/html": [
       "<div>\n",
       "<style scoped>\n",
       "    .dataframe tbody tr th:only-of-type {\n",
       "        vertical-align: middle;\n",
       "    }\n",
       "\n",
       "    .dataframe tbody tr th {\n",
       "        vertical-align: top;\n",
       "    }\n",
       "\n",
       "    .dataframe thead th {\n",
       "        text-align: right;\n",
       "    }\n",
       "</style>\n",
       "<table border=\"1\" class=\"dataframe\">\n",
       "  <thead>\n",
       "    <tr style=\"text-align: right;\">\n",
       "      <th></th>\n",
       "      <th>Unnamed: 0</th>\n",
       "      <th>Price</th>\n",
       "      <th>Mileage(miles)</th>\n",
       "      <th>Registration_Year</th>\n",
       "      <th>Previous Owners</th>\n",
       "      <th>Doors</th>\n",
       "      <th>Seats</th>\n",
       "    </tr>\n",
       "  </thead>\n",
       "  <tbody>\n",
       "    <tr>\n",
       "      <th>count</th>\n",
       "      <td>3685.000000</td>\n",
       "      <td>3685.000000</td>\n",
       "      <td>3.685000e+03</td>\n",
       "      <td>3685.000000</td>\n",
       "      <td>2276.000000</td>\n",
       "      <td>3660.000000</td>\n",
       "      <td>3650.000000</td>\n",
       "    </tr>\n",
       "    <tr>\n",
       "      <th>mean</th>\n",
       "      <td>2314.770963</td>\n",
       "      <td>5787.145726</td>\n",
       "      <td>8.132816e+04</td>\n",
       "      <td>2011.835007</td>\n",
       "      <td>2.807557</td>\n",
       "      <td>4.321038</td>\n",
       "      <td>4.900274</td>\n",
       "    </tr>\n",
       "    <tr>\n",
       "      <th>std</th>\n",
       "      <td>1415.821308</td>\n",
       "      <td>4480.810572</td>\n",
       "      <td>3.942083e+04</td>\n",
       "      <td>5.092566</td>\n",
       "      <td>1.546028</td>\n",
       "      <td>0.986902</td>\n",
       "      <td>0.577200</td>\n",
       "    </tr>\n",
       "    <tr>\n",
       "      <th>min</th>\n",
       "      <td>0.000000</td>\n",
       "      <td>400.000000</td>\n",
       "      <td>1.000000e+00</td>\n",
       "      <td>1953.000000</td>\n",
       "      <td>1.000000</td>\n",
       "      <td>2.000000</td>\n",
       "      <td>2.000000</td>\n",
       "    </tr>\n",
       "    <tr>\n",
       "      <th>25%</th>\n",
       "      <td>1059.000000</td>\n",
       "      <td>2490.000000</td>\n",
       "      <td>5.698400e+04</td>\n",
       "      <td>2008.000000</td>\n",
       "      <td>2.000000</td>\n",
       "      <td>3.000000</td>\n",
       "      <td>5.000000</td>\n",
       "    </tr>\n",
       "    <tr>\n",
       "      <th>50%</th>\n",
       "      <td>2279.000000</td>\n",
       "      <td>4000.000000</td>\n",
       "      <td>8.000000e+04</td>\n",
       "      <td>2012.000000</td>\n",
       "      <td>3.000000</td>\n",
       "      <td>5.000000</td>\n",
       "      <td>5.000000</td>\n",
       "    </tr>\n",
       "    <tr>\n",
       "      <th>75%</th>\n",
       "      <td>3593.000000</td>\n",
       "      <td>7995.000000</td>\n",
       "      <td>1.030000e+05</td>\n",
       "      <td>2015.000000</td>\n",
       "      <td>4.000000</td>\n",
       "      <td>5.000000</td>\n",
       "      <td>5.000000</td>\n",
       "    </tr>\n",
       "    <tr>\n",
       "      <th>max</th>\n",
       "      <td>4727.000000</td>\n",
       "      <td>33900.000000</td>\n",
       "      <td>1.110100e+06</td>\n",
       "      <td>2023.000000</td>\n",
       "      <td>9.000000</td>\n",
       "      <td>5.000000</td>\n",
       "      <td>7.000000</td>\n",
       "    </tr>\n",
       "  </tbody>\n",
       "</table>\n",
       "</div>"
      ],
      "text/plain": [
       "        Unnamed: 0         Price  Mileage(miles)  Registration_Year  \\\n",
       "count  3685.000000   3685.000000    3.685000e+03        3685.000000   \n",
       "mean   2314.770963   5787.145726    8.132816e+04        2011.835007   \n",
       "std    1415.821308   4480.810572    3.942083e+04           5.092566   \n",
       "min       0.000000    400.000000    1.000000e+00        1953.000000   \n",
       "25%    1059.000000   2490.000000    5.698400e+04        2008.000000   \n",
       "50%    2279.000000   4000.000000    8.000000e+04        2012.000000   \n",
       "75%    3593.000000   7995.000000    1.030000e+05        2015.000000   \n",
       "max    4727.000000  33900.000000    1.110100e+06        2023.000000   \n",
       "\n",
       "       Previous Owners        Doors        Seats  \n",
       "count      2276.000000  3660.000000  3650.000000  \n",
       "mean          2.807557     4.321038     4.900274  \n",
       "std           1.546028     0.986902     0.577200  \n",
       "min           1.000000     2.000000     2.000000  \n",
       "25%           2.000000     3.000000     5.000000  \n",
       "50%           3.000000     5.000000     5.000000  \n",
       "75%           4.000000     5.000000     5.000000  \n",
       "max           9.000000     5.000000     7.000000  "
      ]
     },
     "execution_count": 7,
     "metadata": {},
     "output_type": "execute_result"
    }
   ],
   "source": [
    "df.describe()   # Statistics"
   ]
  },
  {
   "cell_type": "markdown",
   "id": "8604a876",
   "metadata": {
    "papermill": {
     "duration": 0.008418,
     "end_time": "2023-10-22T19:50:01.936282",
     "exception": false,
     "start_time": "2023-10-22T19:50:01.927864",
     "status": "completed"
    },
    "tags": []
   },
   "source": [
    "# 4. Data Preprocessing"
   ]
  },
  {
   "cell_type": "code",
   "execution_count": 8,
   "id": "e5601148",
   "metadata": {
    "execution": {
     "iopub.execute_input": "2023-10-22T19:50:01.955839Z",
     "iopub.status.busy": "2023-10-22T19:50:01.955199Z",
     "iopub.status.idle": "2023-10-22T19:50:01.965356Z",
     "shell.execute_reply": "2023-10-22T19:50:01.964201Z"
    },
    "papermill": {
     "duration": 0.022779,
     "end_time": "2023-10-22T19:50:01.967558",
     "exception": false,
     "start_time": "2023-10-22T19:50:01.944779",
     "status": "completed"
    },
    "tags": []
   },
   "outputs": [
    {
     "data": {
      "text/plain": [
       "Unnamed: 0              0\n",
       "title                   0\n",
       "Price                   0\n",
       "Mileage(miles)          0\n",
       "Registration_Year       0\n",
       "Previous Owners      1409\n",
       "Fuel type               0\n",
       "Body type               0\n",
       "Engine                 45\n",
       "Gearbox                 0\n",
       "Doors                  25\n",
       "Seats                  35\n",
       "Emission Class         87\n",
       "Service history      3145\n",
       "dtype: int64"
      ]
     },
     "execution_count": 8,
     "metadata": {},
     "output_type": "execute_result"
    }
   ],
   "source": [
    "df.isnull().sum() "
   ]
  },
  {
   "cell_type": "markdown",
   "id": "01efd913",
   "metadata": {
    "papermill": {
     "duration": 0.008459,
     "end_time": "2023-10-22T19:50:01.986073",
     "exception": false,
     "start_time": "2023-10-22T19:50:01.977614",
     "status": "completed"
    },
    "tags": []
   },
   "source": [
    "**Handling Missing Values**"
   ]
  },
  {
   "cell_type": "code",
   "execution_count": 9,
   "id": "cce49150",
   "metadata": {
    "execution": {
     "iopub.execute_input": "2023-10-22T19:50:02.006822Z",
     "iopub.status.busy": "2023-10-22T19:50:02.006215Z",
     "iopub.status.idle": "2023-10-22T19:50:02.016944Z",
     "shell.execute_reply": "2023-10-22T19:50:02.016047Z"
    },
    "papermill": {
     "duration": 0.024397,
     "end_time": "2023-10-22T19:50:02.019542",
     "exception": false,
     "start_time": "2023-10-22T19:50:01.995145",
     "status": "completed"
    },
    "tags": []
   },
   "outputs": [],
   "source": [
    "df['Previous Owners'].fillna(df['Previous Owners'].mean(), inplace=True)\n",
    "\n",
    "df['Doors'].fillna(df['Doors'].mean(), inplace=True)\n",
    "\n",
    "df['Seats'].fillna(df['Seats'].mean(), inplace=True)"
   ]
  },
  {
   "cell_type": "markdown",
   "id": "292a5976",
   "metadata": {
    "papermill": {
     "duration": 0.008671,
     "end_time": "2023-10-22T19:50:02.036737",
     "exception": false,
     "start_time": "2023-10-22T19:50:02.028066",
     "status": "completed"
    },
    "tags": []
   },
   "source": [
    "**Removing irrelevant features**"
   ]
  },
  {
   "cell_type": "code",
   "execution_count": 10,
   "id": "95405c54",
   "metadata": {
    "execution": {
     "iopub.execute_input": "2023-10-22T19:50:02.056947Z",
     "iopub.status.busy": "2023-10-22T19:50:02.056125Z",
     "iopub.status.idle": "2023-10-22T19:50:02.071067Z",
     "shell.execute_reply": "2023-10-22T19:50:02.070169Z"
    },
    "papermill": {
     "duration": 0.028289,
     "end_time": "2023-10-22T19:50:02.073490",
     "exception": false,
     "start_time": "2023-10-22T19:50:02.045201",
     "status": "completed"
    },
    "tags": []
   },
   "outputs": [],
   "source": [
    "df=df.drop(['Unnamed: 0','Service history','title','Registration_Year'], axis=1)\n",
    "\n",
    "df.dropna(subset=['Emission Class'], inplace=True)"
   ]
  },
  {
   "cell_type": "markdown",
   "id": "76edaab7",
   "metadata": {
    "papermill": {
     "duration": 0.009167,
     "end_time": "2023-10-22T19:50:02.091151",
     "exception": false,
     "start_time": "2023-10-22T19:50:02.081984",
     "status": "completed"
    },
    "tags": []
   },
   "source": [
    "**Regex : Regular Expressions**"
   ]
  },
  {
   "cell_type": "code",
   "execution_count": 11,
   "id": "e61c7c2f",
   "metadata": {
    "execution": {
     "iopub.execute_input": "2023-10-22T19:50:02.111653Z",
     "iopub.status.busy": "2023-10-22T19:50:02.110925Z",
     "iopub.status.idle": "2023-10-22T19:50:02.121709Z",
     "shell.execute_reply": "2023-10-22T19:50:02.120798Z"
    },
    "papermill": {
     "duration": 0.024083,
     "end_time": "2023-10-22T19:50:02.124390",
     "exception": false,
     "start_time": "2023-10-22T19:50:02.100307",
     "status": "completed"
    },
    "tags": []
   },
   "outputs": [],
   "source": [
    "# Remove 'L' using regex\n",
    "\n",
    "df['Engine'] = df['Engine'].str.replace('L', '', regex=True).astype(float)\n",
    "\n",
    "df['Engine'].fillna(0, inplace=True)"
   ]
  },
  {
   "cell_type": "code",
   "execution_count": 12,
   "id": "ba34dc1b",
   "metadata": {
    "execution": {
     "iopub.execute_input": "2023-10-22T19:50:02.145066Z",
     "iopub.status.busy": "2023-10-22T19:50:02.144442Z",
     "iopub.status.idle": "2023-10-22T19:50:02.154514Z",
     "shell.execute_reply": "2023-10-22T19:50:02.153409Z"
    },
    "papermill": {
     "duration": 0.022844,
     "end_time": "2023-10-22T19:50:02.156893",
     "exception": false,
     "start_time": "2023-10-22T19:50:02.134049",
     "status": "completed"
    },
    "tags": []
   },
   "outputs": [],
   "source": [
    "# Remove 'Euro' prefix  using regex\n",
    "\n",
    "df['Emission Class'] = df['Emission Class'].str.replace('Euro', '', regex=True).astype(int)\n"
   ]
  },
  {
   "cell_type": "markdown",
   "id": "a7b1ea1f",
   "metadata": {
    "papermill": {
     "duration": 0.008264,
     "end_time": "2023-10-22T19:50:02.173705",
     "exception": false,
     "start_time": "2023-10-22T19:50:02.165441",
     "status": "completed"
    },
    "tags": []
   },
   "source": [
    "**Label encoding**"
   ]
  },
  {
   "cell_type": "code",
   "execution_count": 13,
   "id": "56a7567b",
   "metadata": {
    "execution": {
     "iopub.execute_input": "2023-10-22T19:50:02.193705Z",
     "iopub.status.busy": "2023-10-22T19:50:02.193078Z",
     "iopub.status.idle": "2023-10-22T19:50:02.337470Z",
     "shell.execute_reply": "2023-10-22T19:50:02.336298Z"
    },
    "papermill": {
     "duration": 0.158011,
     "end_time": "2023-10-22T19:50:02.340097",
     "exception": false,
     "start_time": "2023-10-22T19:50:02.182086",
     "status": "completed"
    },
    "tags": []
   },
   "outputs": [],
   "source": [
    "from sklearn.preprocessing import LabelEncoder\n",
    "\n",
    "label_encoder = LabelEncoder()"
   ]
  },
  {
   "cell_type": "code",
   "execution_count": 14,
   "id": "0109bc55",
   "metadata": {
    "execution": {
     "iopub.execute_input": "2023-10-22T19:50:02.360121Z",
     "iopub.status.busy": "2023-10-22T19:50:02.359087Z",
     "iopub.status.idle": "2023-10-22T19:50:02.369029Z",
     "shell.execute_reply": "2023-10-22T19:50:02.367926Z"
    },
    "papermill": {
     "duration": 0.022819,
     "end_time": "2023-10-22T19:50:02.371695",
     "exception": false,
     "start_time": "2023-10-22T19:50:02.348876",
     "status": "completed"
    },
    "tags": []
   },
   "outputs": [],
   "source": [
    "categorical_columns = ['Fuel type', 'Body type', 'Gearbox']\n",
    "\n",
    "# Apply label encoding to each categorical column\n",
    "\n",
    "for column in categorical_columns:\n",
    "    df[column] = label_encoder.fit_transform(df[column])"
   ]
  },
  {
   "cell_type": "code",
   "execution_count": 15,
   "id": "042ae15c",
   "metadata": {
    "execution": {
     "iopub.execute_input": "2023-10-22T19:50:02.390739Z",
     "iopub.status.busy": "2023-10-22T19:50:02.390066Z",
     "iopub.status.idle": "2023-10-22T19:50:02.404076Z",
     "shell.execute_reply": "2023-10-22T19:50:02.403320Z"
    },
    "papermill": {
     "duration": 0.026209,
     "end_time": "2023-10-22T19:50:02.406267",
     "exception": false,
     "start_time": "2023-10-22T19:50:02.380058",
     "status": "completed"
    },
    "tags": []
   },
   "outputs": [
    {
     "data": {
      "text/html": [
       "<div>\n",
       "<style scoped>\n",
       "    .dataframe tbody tr th:only-of-type {\n",
       "        vertical-align: middle;\n",
       "    }\n",
       "\n",
       "    .dataframe tbody tr th {\n",
       "        vertical-align: top;\n",
       "    }\n",
       "\n",
       "    .dataframe thead th {\n",
       "        text-align: right;\n",
       "    }\n",
       "</style>\n",
       "<table border=\"1\" class=\"dataframe\">\n",
       "  <thead>\n",
       "    <tr style=\"text-align: right;\">\n",
       "      <th></th>\n",
       "      <th>Price</th>\n",
       "      <th>Mileage(miles)</th>\n",
       "      <th>Previous Owners</th>\n",
       "      <th>Fuel type</th>\n",
       "      <th>Body type</th>\n",
       "      <th>Engine</th>\n",
       "      <th>Gearbox</th>\n",
       "      <th>Doors</th>\n",
       "      <th>Seats</th>\n",
       "      <th>Emission Class</th>\n",
       "    </tr>\n",
       "  </thead>\n",
       "  <tbody>\n",
       "    <tr>\n",
       "      <th>0</th>\n",
       "      <td>6900</td>\n",
       "      <td>70189</td>\n",
       "      <td>3.000000</td>\n",
       "      <td>0</td>\n",
       "      <td>4</td>\n",
       "      <td>1.4</td>\n",
       "      <td>1</td>\n",
       "      <td>5.0</td>\n",
       "      <td>5.0</td>\n",
       "      <td>6</td>\n",
       "    </tr>\n",
       "    <tr>\n",
       "      <th>1</th>\n",
       "      <td>1495</td>\n",
       "      <td>88585</td>\n",
       "      <td>4.000000</td>\n",
       "      <td>2</td>\n",
       "      <td>4</td>\n",
       "      <td>1.2</td>\n",
       "      <td>1</td>\n",
       "      <td>3.0</td>\n",
       "      <td>5.0</td>\n",
       "      <td>4</td>\n",
       "    </tr>\n",
       "    <tr>\n",
       "      <th>2</th>\n",
       "      <td>949</td>\n",
       "      <td>137000</td>\n",
       "      <td>2.807557</td>\n",
       "      <td>2</td>\n",
       "      <td>4</td>\n",
       "      <td>1.4</td>\n",
       "      <td>1</td>\n",
       "      <td>5.0</td>\n",
       "      <td>5.0</td>\n",
       "      <td>5</td>\n",
       "    </tr>\n",
       "    <tr>\n",
       "      <th>3</th>\n",
       "      <td>2395</td>\n",
       "      <td>96731</td>\n",
       "      <td>5.000000</td>\n",
       "      <td>2</td>\n",
       "      <td>4</td>\n",
       "      <td>1.4</td>\n",
       "      <td>1</td>\n",
       "      <td>3.0</td>\n",
       "      <td>4.0</td>\n",
       "      <td>4</td>\n",
       "    </tr>\n",
       "    <tr>\n",
       "      <th>4</th>\n",
       "      <td>1000</td>\n",
       "      <td>85000</td>\n",
       "      <td>2.807557</td>\n",
       "      <td>0</td>\n",
       "      <td>4</td>\n",
       "      <td>1.3</td>\n",
       "      <td>1</td>\n",
       "      <td>5.0</td>\n",
       "      <td>5.0</td>\n",
       "      <td>5</td>\n",
       "    </tr>\n",
       "  </tbody>\n",
       "</table>\n",
       "</div>"
      ],
      "text/plain": [
       "   Price  Mileage(miles)  Previous Owners  Fuel type  Body type  Engine  \\\n",
       "0   6900           70189         3.000000          0          4     1.4   \n",
       "1   1495           88585         4.000000          2          4     1.2   \n",
       "2    949          137000         2.807557          2          4     1.4   \n",
       "3   2395           96731         5.000000          2          4     1.4   \n",
       "4   1000           85000         2.807557          0          4     1.3   \n",
       "\n",
       "   Gearbox  Doors  Seats  Emission Class  \n",
       "0        1    5.0    5.0               6  \n",
       "1        1    3.0    5.0               4  \n",
       "2        1    5.0    5.0               5  \n",
       "3        1    3.0    4.0               4  \n",
       "4        1    5.0    5.0               5  "
      ]
     },
     "execution_count": 15,
     "metadata": {},
     "output_type": "execute_result"
    }
   ],
   "source": [
    "df.head()"
   ]
  },
  {
   "cell_type": "markdown",
   "id": "de6b32b4",
   "metadata": {
    "papermill": {
     "duration": 0.0084,
     "end_time": "2023-10-22T19:50:02.423794",
     "exception": false,
     "start_time": "2023-10-22T19:50:02.415394",
     "status": "completed"
    },
    "tags": []
   },
   "source": [
    "**Define features and the target variable**"
   ]
  },
  {
   "cell_type": "code",
   "execution_count": 16,
   "id": "5717d16a",
   "metadata": {
    "execution": {
     "iopub.execute_input": "2023-10-22T19:50:02.443559Z",
     "iopub.status.busy": "2023-10-22T19:50:02.442898Z",
     "iopub.status.idle": "2023-10-22T19:50:02.448209Z",
     "shell.execute_reply": "2023-10-22T19:50:02.447423Z"
    },
    "papermill": {
     "duration": 0.017843,
     "end_time": "2023-10-22T19:50:02.450354",
     "exception": false,
     "start_time": "2023-10-22T19:50:02.432511",
     "status": "completed"
    },
    "tags": []
   },
   "outputs": [],
   "source": [
    "X = df.drop('Price', axis=1)\n",
    "y = df['Price']\n"
   ]
  },
  {
   "cell_type": "markdown",
   "id": "88d7d142",
   "metadata": {
    "papermill": {
     "duration": 0.068359,
     "end_time": "2023-10-22T19:50:02.527631",
     "exception": false,
     "start_time": "2023-10-22T19:50:02.459272",
     "status": "completed"
    },
    "tags": []
   },
   "source": [
    "# 5. Data Splitting"
   ]
  },
  {
   "cell_type": "code",
   "execution_count": 17,
   "id": "3142734a",
   "metadata": {
    "execution": {
     "iopub.execute_input": "2023-10-22T19:50:02.547332Z",
     "iopub.status.busy": "2023-10-22T19:50:02.546681Z",
     "iopub.status.idle": "2023-10-22T19:50:02.656057Z",
     "shell.execute_reply": "2023-10-22T19:50:02.654814Z"
    },
    "papermill": {
     "duration": 0.122225,
     "end_time": "2023-10-22T19:50:02.658785",
     "exception": false,
     "start_time": "2023-10-22T19:50:02.536560",
     "status": "completed"
    },
    "tags": []
   },
   "outputs": [],
   "source": [
    "from sklearn.model_selection import train_test_split"
   ]
  },
  {
   "cell_type": "code",
   "execution_count": 18,
   "id": "2853097b",
   "metadata": {
    "execution": {
     "iopub.execute_input": "2023-10-22T19:50:02.678893Z",
     "iopub.status.busy": "2023-10-22T19:50:02.678114Z",
     "iopub.status.idle": "2023-10-22T19:50:02.687507Z",
     "shell.execute_reply": "2023-10-22T19:50:02.686234Z"
    },
    "papermill": {
     "duration": 0.022143,
     "end_time": "2023-10-22T19:50:02.689935",
     "exception": false,
     "start_time": "2023-10-22T19:50:02.667792",
     "status": "completed"
    },
    "tags": []
   },
   "outputs": [],
   "source": [
    "# Split the data into training and testing sets\n",
    "X_train, X_test, y_train, y_test = train_test_split(X, y, test_size=0.2, random_state=42)"
   ]
  },
  {
   "cell_type": "markdown",
   "id": "c666c505",
   "metadata": {
    "papermill": {
     "duration": 0.008479,
     "end_time": "2023-10-22T19:50:02.707695",
     "exception": false,
     "start_time": "2023-10-22T19:50:02.699216",
     "status": "completed"
    },
    "tags": []
   },
   "source": [
    "# 6. Model Building"
   ]
  },
  {
   "cell_type": "markdown",
   "id": "50b78fe2",
   "metadata": {
    "papermill": {
     "duration": 0.008412,
     "end_time": "2023-10-22T19:50:02.724911",
     "exception": false,
     "start_time": "2023-10-22T19:50:02.716499",
     "status": "completed"
    },
    "tags": []
   },
   "source": [
    "**Model Selection**"
   ]
  },
  {
   "cell_type": "code",
   "execution_count": 19,
   "id": "183cd9a0",
   "metadata": {
    "execution": {
     "iopub.execute_input": "2023-10-22T19:50:02.744418Z",
     "iopub.status.busy": "2023-10-22T19:50:02.743656Z",
     "iopub.status.idle": "2023-10-22T19:50:02.847090Z",
     "shell.execute_reply": "2023-10-22T19:50:02.846009Z"
    },
    "papermill": {
     "duration": 0.116032,
     "end_time": "2023-10-22T19:50:02.849721",
     "exception": false,
     "start_time": "2023-10-22T19:50:02.733689",
     "status": "completed"
    },
    "tags": []
   },
   "outputs": [],
   "source": [
    "from sklearn.linear_model import LinearRegression\n",
    "\n",
    "model = LinearRegression()"
   ]
  },
  {
   "cell_type": "markdown",
   "id": "c4d2682e",
   "metadata": {
    "papermill": {
     "duration": 0.008539,
     "end_time": "2023-10-22T19:50:02.867510",
     "exception": false,
     "start_time": "2023-10-22T19:50:02.858971",
     "status": "completed"
    },
    "tags": []
   },
   "source": [
    "**Model Training**"
   ]
  },
  {
   "cell_type": "code",
   "execution_count": 20,
   "id": "295498b6",
   "metadata": {
    "execution": {
     "iopub.execute_input": "2023-10-22T19:50:02.887061Z",
     "iopub.status.busy": "2023-10-22T19:50:02.886694Z",
     "iopub.status.idle": "2023-10-22T19:50:02.918417Z",
     "shell.execute_reply": "2023-10-22T19:50:02.917120Z"
    },
    "papermill": {
     "duration": 0.044386,
     "end_time": "2023-10-22T19:50:02.921075",
     "exception": false,
     "start_time": "2023-10-22T19:50:02.876689",
     "status": "completed"
    },
    "tags": []
   },
   "outputs": [],
   "source": [
    "model.fit(X_train, y_train)\n",
    "\n",
    "\n",
    "# Make predictions on the test set\n",
    "y_pred = model.predict(X_test)"
   ]
  },
  {
   "cell_type": "markdown",
   "id": "5b8b8575",
   "metadata": {
    "papermill": {
     "duration": 0.009058,
     "end_time": "2023-10-22T19:50:02.939157",
     "exception": false,
     "start_time": "2023-10-22T19:50:02.930099",
     "status": "completed"
    },
    "tags": []
   },
   "source": [
    "# 7. Evaluation"
   ]
  },
  {
   "cell_type": "code",
   "execution_count": 21,
   "id": "3cd011e3",
   "metadata": {
    "execution": {
     "iopub.execute_input": "2023-10-22T19:50:02.959634Z",
     "iopub.status.busy": "2023-10-22T19:50:02.959060Z",
     "iopub.status.idle": "2023-10-22T19:50:02.964875Z",
     "shell.execute_reply": "2023-10-22T19:50:02.963758Z"
    },
    "papermill": {
     "duration": 0.018991,
     "end_time": "2023-10-22T19:50:02.967263",
     "exception": false,
     "start_time": "2023-10-22T19:50:02.948272",
     "status": "completed"
    },
    "tags": []
   },
   "outputs": [],
   "source": [
    "from sklearn.metrics import mean_absolute_error, mean_squared_error, r2_score"
   ]
  },
  {
   "cell_type": "code",
   "execution_count": 22,
   "id": "a6ee7c84",
   "metadata": {
    "execution": {
     "iopub.execute_input": "2023-10-22T19:50:02.987454Z",
     "iopub.status.busy": "2023-10-22T19:50:02.986887Z",
     "iopub.status.idle": "2023-10-22T19:50:02.997968Z",
     "shell.execute_reply": "2023-10-22T19:50:02.996614Z"
    },
    "papermill": {
     "duration": 0.023917,
     "end_time": "2023-10-22T19:50:03.000196",
     "exception": false,
     "start_time": "2023-10-22T19:50:02.976279",
     "status": "completed"
    },
    "tags": []
   },
   "outputs": [
    {
     "name": "stdout",
     "output_type": "stream",
     "text": [
      "Mean Absolute Error (MAE): 1879.60\n",
      "Mean Squared Error (MSE): 7345176.72\n",
      "Root Mean Squared Error (RMSE): 2710.20\n",
      "R-squared (R2): 0.67\n"
     ]
    }
   ],
   "source": [
    "# Evaluate the model\n",
    "\n",
    "mae = mean_absolute_error(y_test, y_pred)\n",
    "mse = mean_squared_error(y_test, y_pred)\n",
    "rmse = np.sqrt(mse)\n",
    "r2 = r2_score(y_test, y_pred)\n",
    "\n",
    "\n",
    "print(f\"Mean Absolute Error (MAE): {mae:.2f}\")\n",
    "print(f\"Mean Squared Error (MSE): {mse:.2f}\")\n",
    "print(f\"Root Mean Squared Error (RMSE): {rmse:.2f}\")\n",
    "print(f\"R-squared (R2): {r2:.2f}\")"
   ]
  },
  {
   "cell_type": "markdown",
   "id": "23d03969",
   "metadata": {
    "papermill": {
     "duration": 0.008695,
     "end_time": "2023-10-22T19:50:03.019022",
     "exception": false,
     "start_time": "2023-10-22T19:50:03.010327",
     "status": "completed"
    },
    "tags": []
   },
   "source": [
    "# 8. Scatter Plot with Regression Line"
   ]
  },
  {
   "cell_type": "code",
   "execution_count": 23,
   "id": "a5d4fd09",
   "metadata": {
    "execution": {
     "iopub.execute_input": "2023-10-22T19:50:03.038534Z",
     "iopub.status.busy": "2023-10-22T19:50:03.038133Z",
     "iopub.status.idle": "2023-10-22T19:50:03.552002Z",
     "shell.execute_reply": "2023-10-22T19:50:03.551235Z"
    },
    "papermill": {
     "duration": 0.526338,
     "end_time": "2023-10-22T19:50:03.554367",
     "exception": false,
     "start_time": "2023-10-22T19:50:03.028029",
     "status": "completed"
    },
    "tags": []
   },
   "outputs": [
    {
     "data": {
      "image/png": "[encoded data removed]",
      "text/plain": [
       "<Figure size 1000x600 with 1 Axes>"
      ]
     },
     "metadata": {},
     "output_type": "display_data"
    }
   ],
   "source": [
    "plt.figure(figsize=(10, 6))\n",
    "\n",
    "# Create a scatterplot \n",
    "sns.scatterplot(x=y_test, y=y_pred, color='b', alpha=0.9, edgecolor='k', s=80)\n",
    "\n",
    "# Add a regression line\n",
    "sns.regplot(x=y_test, y=y_pred, scatter=False, color='r', line_kws={\"color\": \"orange\", \"lw\": 2})\n",
    "\n",
    "\n",
    "plt.xlabel(\"Actual Values\", fontsize=14)\n",
    "plt.ylabel(\"Predicted Values\", fontsize=14)\n",
    "plt.title(\"Model Performance - Actual vs. Predicted Values\", fontsize=16)\n",
    "\n",
    "\n",
    "# Add a grid\n",
    "sns.set(style='whitegrid')\n",
    "\n",
    "\n",
    "plt.show()"
   ]
  }
 ],
 "metadata": {
  "kernelspec": {
   "display_name": "Python 3",
   "language": "python",
   "name": "python3"
  },
  "language_info": {
   "codemirror_mode": {
    "name": "ipython",
    "version": 3
   },
   "file_extension": ".py",
   "mimetype": "text/x-python",
   "name": "python",
   "nbconvert_exporter": "python",
   "pygments_lexer": "ipython3",
   "version": "3.10.12"
  },
  "papermill": {
   "default_parameters": {},
   "duration": 7.655733,
   "end_time": "2023-10-22T19:50:04.185161",
   "environment_variables": {},
   "exception": null,
   "input_path": "__notebook__.ipynb",
   "output_path": "__notebook__.ipynb",
   "parameters": {},
   "start_time": "2023-10-22T19:49:56.529428",
   "version": "2.4.0"
  }
 },
 "nbformat": 4,
 "nbformat_minor": 5
}
